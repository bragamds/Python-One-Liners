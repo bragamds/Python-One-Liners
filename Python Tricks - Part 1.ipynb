{
 "cells": [
  {
   "cell_type": "markdown",
   "metadata": {},
   "source": [
    "Useful Takeaways:\n",
    "> Assigning lambda function to a variable.\n",
    "\n",
    "> Having two inputs for the lambda function. \n",
    "\n",
    "> Using find to get the index of where the string startsw within a list or data structure.\n",
    "\n",
    "> Using slice assignment.\n",
    "\n",
    "> plt has the function plot which is just used for lines.\n",
    "\n",
    "> Multiplying strings. "
   ]
  },
  {
   "cell_type": "code",
   "execution_count": 1,
   "metadata": {},
   "outputs": [],
   "source": [
    "text = '''\n",
    "             Call me Ishmael. Some years ago - never mind how long precisely - having\n",
    "             little or no money in my purse, and nothing particular to interest me\n",
    "             on shore, I thought I would sail about a little and see the watery part\n",
    "             of the world. It is a way I have of driving off the spleen, and regulating\n",
    "             the circulation. - Moby Dick'''"
   ]
  },
  {
   "cell_type": "code",
   "execution_count": 36,
   "metadata": {},
   "outputs": [],
   "source": [
    "# Create a list of lists—each consisting of all the words in a \n",
    "# line that have more than three characters\n",
    "\n",
    "greater_than_3 = [[x for x in line.split() if len(x) > 3] for line in text.split('/n')]"
   ]
  },
  {
   "cell_type": "code",
   "execution_count": 37,
   "metadata": {},
   "outputs": [
    {
     "data": {
      "text/plain": [
       "[['Call',\n",
       "  'Ishmael.',\n",
       "  'Some',\n",
       "  'years',\n",
       "  'never',\n",
       "  'mind',\n",
       "  'long',\n",
       "  'precisely',\n",
       "  'having',\n",
       "  'little',\n",
       "  'money',\n",
       "  'purse,',\n",
       "  'nothing',\n",
       "  'particular',\n",
       "  'interest',\n",
       "  'shore,',\n",
       "  'thought',\n",
       "  'would',\n",
       "  'sail',\n",
       "  'about',\n",
       "  'little',\n",
       "  'watery',\n",
       "  'part',\n",
       "  'world.',\n",
       "  'have',\n",
       "  'driving',\n",
       "  'spleen,',\n",
       "  'regulating',\n",
       "  'circulation.',\n",
       "  'Moby',\n",
       "  'Dick']]"
      ]
     },
     "execution_count": 37,
     "metadata": {},
     "output_type": "execute_result"
    }
   ],
   "source": [
    "greater_than_3"
   ]
  },
  {
   "cell_type": "code",
   "execution_count": null,
   "metadata": {},
   "outputs": [],
   "source": [
    "with open (filename, 'r') as file: \n",
    "    "
   ]
  },
  {
   "cell_type": "code",
   "execution_count": 43,
   "metadata": {},
   "outputs": [],
   "source": [
    "x = [n for n in text.split() if len(n) > 3]\n",
    "y = [n for n in text.split('\\n') if len(n) > 3]"
   ]
  },
  {
   "cell_type": "code",
   "execution_count": 44,
   "metadata": {},
   "outputs": [
    {
     "data": {
      "text/plain": [
       "['Call',\n",
       " 'Ishmael.',\n",
       " 'Some',\n",
       " 'years',\n",
       " 'never',\n",
       " 'mind',\n",
       " 'long',\n",
       " 'precisely',\n",
       " 'having',\n",
       " 'little',\n",
       " 'money',\n",
       " 'purse,',\n",
       " 'nothing',\n",
       " 'particular',\n",
       " 'interest',\n",
       " 'shore,',\n",
       " 'thought',\n",
       " 'would',\n",
       " 'sail',\n",
       " 'about',\n",
       " 'little',\n",
       " 'watery',\n",
       " 'part',\n",
       " 'world.',\n",
       " 'have',\n",
       " 'driving',\n",
       " 'spleen,',\n",
       " 'regulating',\n",
       " 'circulation.',\n",
       " 'Moby',\n",
       " 'Dick']"
      ]
     },
     "execution_count": 44,
     "metadata": {},
     "output_type": "execute_result"
    }
   ],
   "source": [
    "x"
   ]
  },
  {
   "cell_type": "markdown",
   "metadata": {},
   "source": [
    "TASK: \n",
    "\n",
    "Our goal is to find a particular text query within a multiline string. You want to find the query in the text and return its immediate environment, up to\n",
    "18 positions around the found query. Extracting the environment as well as the query is useful for seeing the textual context of the found string—just\n",
    "as Google presents text snippets around a searched keyword. In Listing 2-5, you’re looking for the string 'SQL' in an Amazon letter to shareholders—with the immediate environment of up to 18 positions around the string 'SQL'."
   ]
  },
  {
   "cell_type": "code",
   "execution_count": 18,
   "metadata": {},
   "outputs": [],
   "source": [
    "## Data\n",
    "letters_amazon = '''\n",
    "We spent several years building our own database engine,\n",
    "Amazon Aurora, a fully-managed MySQL and PostgreSQL-compatible\n",
    "service with the same or better durability and availability as\n",
    "the commercial engines, but at one-tenth of the cost. We were\n",
    "not surprised when this worked.\n",
    "'''"
   ]
  },
  {
   "cell_type": "code",
   "execution_count": 41,
   "metadata": {},
   "outputs": [],
   "source": [
    "letters = [line for line in letters_amazon.split('\\n') if 'SQL' in line]"
   ]
  },
  {
   "cell_type": "code",
   "execution_count": 45,
   "metadata": {},
   "outputs": [],
   "source": [
    "find = lambda x, q: x[x.find(q)-18:x.find(q)+18] if q in x else -1"
   ]
  },
  {
   "cell_type": "markdown",
   "metadata": {},
   "source": [
    "TASK: \n",
    "\n",
    "Our goal is to create a new training data sample from our data—a list of lists, each consisting of six floats—by including only every other float value from the original data set. Take a look at Listing 2-6."
   ]
  },
  {
   "cell_type": "code",
   "execution_count": 13,
   "metadata": {},
   "outputs": [],
   "source": [
    "## Data (daily stock prices ($))\n",
    "price = [[9.9, 9.8, 9.8, 9.4, 9.5, 9.7],\n",
    "         [9.5, 9.4, 9.4, 9.3, 9.2, 9.1],\n",
    "         [8.4, 7.9, 7.9, 8.1, 8.0, 8.0],\n",
    "         [7.1, 5.9, 4.8, 4.8, 4.7, 3.9]]"
   ]
  },
  {
   "cell_type": "code",
   "execution_count": 16,
   "metadata": {},
   "outputs": [
    {
     "data": {
      "text/plain": [
       "[[9.9, 9.8, 9.5], [9.5, 9.4, 9.2], [8.4, 7.9, 8.0], [7.1, 4.8, 4.7]]"
      ]
     },
     "execution_count": 16,
     "metadata": {},
     "output_type": "execute_result"
    }
   ],
   "source": [
    "[line[::2] for line in price]"
   ]
  },
  {
   "cell_type": "markdown",
   "metadata": {},
   "source": [
    "TASK\n",
    "Our goal is to replace every other string with the string immediately in front of it; see Listing 2-7."
   ]
  },
  {
   "cell_type": "code",
   "execution_count": 2,
   "metadata": {},
   "outputs": [],
   "source": [
    "visitors = ['Firefox', 'corrupted', 'Chrome', 'corrupted',\n",
    "            'Safari', 'corrupted', 'Safari', 'corrupted',\n",
    "            'Chrome', 'corrupted', 'Firefox', 'corrupted']"
   ]
  },
  {
   "cell_type": "code",
   "execution_count": 53,
   "metadata": {},
   "outputs": [],
   "source": [
    "visitors[1::2] = visitors[::2]"
   ]
  },
  {
   "cell_type": "code",
   "execution_count": 54,
   "metadata": {},
   "outputs": [],
   "source": [
    "cardiac_cycle = [62, 60, 62, 64, 68, 77, 80, 76, 71, 66, 61, 60, 62]"
   ]
  },
  {
   "cell_type": "code",
   "execution_count": 56,
   "metadata": {},
   "outputs": [],
   "source": [
    "cardiac_cycle = cardiac_cycle[1:][:-2]"
   ]
  },
  {
   "cell_type": "code",
   "execution_count": 70,
   "metadata": {},
   "outputs": [],
   "source": [
    "expected_cycles = cardiac_cycle*10"
   ]
  },
  {
   "cell_type": "code",
   "execution_count": 81,
   "metadata": {},
   "outputs": [
    {
     "data": {
      "text/plain": [
       "Text(0.5, 0, 'Heart Rate')"
      ]
     },
     "execution_count": 81,
     "metadata": {},
     "output_type": "execute_result"
    },
    {
     "data": {
      "image/png": "[encoded data removed]",
      "text/plain": [
       "<Figure size 432x288 with 1 Axes>"
      ]
     },
     "metadata": {
      "needs_background": "light"
     },
     "output_type": "display_data"
    }
   ],
   "source": [
    "plt.plot(expected_cycles);\n",
    "plt.xlabel('Heart Rate')"
   ]
  },
  {
   "cell_type": "code",
   "execution_count": 84,
   "metadata": {},
   "outputs": [
    {
     "data": {
      "image/png": "[encoded data removed]",
      "text/plain": [
       "<Figure size 432x288 with 1 Axes>"
      ]
     },
     "metadata": {
      "needs_background": "light"
     },
     "output_type": "display_data"
    }
   ],
   "source": [
    "import seaborn as sns\n",
    "fig,ax = plt.subplots(nrows = 1, ncols=1)\n",
    "plot1 = sns.lineplot(data = expected_cycles, ax = ax)\n",
    "plot1.set_xlabel('Heart Rate');"
   ]
  },
  {
   "cell_type": "code",
   "execution_count": null,
   "metadata": {},
   "outputs": [],
   "source": []
  }
 ],
 "metadata": {
  "kernelspec": {
   "display_name": "Python 3",
   "language": "python",
   "name": "python3"
  },
  "language_info": {
   "codemirror_mode": {
    "name": "ipython",
    "version": 3
   },
   "file_extension": ".py",
   "mimetype": "text/x-python",
   "name": "python",
   "nbconvert_exporter": "python",
   "pygments_lexer": "ipython3",
   "version": "3.8.3"
  }
 },
 "nbformat": 4,
 "nbformat_minor": 4
}
