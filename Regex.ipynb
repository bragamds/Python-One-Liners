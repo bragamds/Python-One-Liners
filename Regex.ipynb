{
 "cells": [
  {
   "cell_type": "markdown",
   "metadata": {},
   "source": [
    "### Python One Liners - Regex "
   ]
  },
  {
   "cell_type": "markdown",
   "metadata": {},
   "source": [
    "Useful Takeaways \n",
    "\n",
    "> Using \\ character in front of special character to negate its affect. \n",
    "\n",
    "\n",
    "> + is one or more for match. * is 0 or more times. {3} times. {2,4} between 2 to four times. ? is once or none.\n",
    "\n",
    "\n",
    "> Regex group represented by (). Can have multiple groups being matched using (). On the other hand, when using two nested groups in the regex (hello(world)), the result of the re.findall() function would be a tuple of all matched groups ('helloworld', 'world').\n",
    "\n",
    "\n",
    "> The dot regex matches any character (including whitespace characters). You can use it to indicate that you don’t care which character matches, as long as exactly one matches\n",
    "\n",
    "\n",
    "> Second, say you want to match text that begins and ends with the character 'y' and an arbitrary number of characters in between. How do you accomplish this? You can do by this using the asterisk regex, the * character. Unlike the dot regex, the asterisk regex can’t stand on its own; it modifies the meaning of another regex. \n",
    "\n",
    "> .*?, Python searches for a minimal number of arbitrary characters.(. *?) matches any character ( . ) any number of times ( * ), as few times as possible to make the regex match ( ? )\n",
    "\n",
    "> Using re.compile. Can be useful to store a particular regex expression and not have to repeat code unnecessarily by retyping the same expression when using it on other strings. \n",
    "\n",
    "> Differences between re.match, re.search, re.findall. The re.search returns the first instance and its location, re.findall returns all instances but only as a list of strings (i.e. no info about locations). re.match will match if it's at the begining of a string? \n",
    "\n",
    "> re.match - Ensures the string begins with the pattern\n",
    "\n",
    "> re.fullmatch - Checks whether the regex matches the full string. "
   ]
  },
  {
   "cell_type": "markdown",
   "metadata": {},
   "source": [
    "• The dot regex . matches an arbitrary character.\n",
    "\n",
    "• The asterisk regex <pattern>* matches an arbitrary number of the regex\n",
    "<pattern>. Note that this includes zero matching instances.\n",
    "    \n",
    "• The at-least-one regex <pattern>+ can match an arbitrary number of\n",
    "<pattern> but must match at least one instance.\n",
    "    \n",
    "• The zero-or-one regex <pattern>? matches either zero or one instances\n",
    "of <pattern>.\n",
    "    \n",
    "• The nongreedy asterisk regex *? matches as few arbitrary characters as possible to match the overall regex.\n",
    "\n",
    "• The regex <pattern>{m} matches exactly m copies of <pattern>.\n",
    "    \n",
    "• The regex <pattern>{m,n} matches between m and n copies of <pattern>.\n",
    "    \n",
    "• The regex <pattern_1>|<pattern_2> matches either <pattern_1> or <pattern_2>.\n",
    "    \n",
    "• The regex <pattern_1><pattern_2> matches <pattern_1> and then <pattern_2>.\n",
    "    \n",
    "• The regex (<pattern>) matches <pattern>. The parentheses group regu- lar expressions so you can control the order of execution (for exam- ple, (<pattern_1><pattern_2>)|<pattern_3> is different from <pattern_1> (<pattern_2>|<pattern_3>). The parentheses regex also creates a match- ing group, as you’ll see later in the section.\n",
    "    \n",
    "• The regex ^ is if you want to avoid an expression. "
   ]
  },
  {
   "cell_type": "code",
   "execution_count": 1,
   "metadata": {},
   "outputs": [],
   "source": [
    "import regex as re\n",
    "\n",
    "report = '''\n",
    "If you invested $1 in the year 1801, you would have $18087791.41 today.\n",
    "This is a 7.967% return on investment.\n",
    "But if you invested only $0.25 in 1801, you would end up with $4521947.8525.\n",
    "'''\n",
    "\n",
    "# Finding the dollar amounts \n",
    "re.findall('\\$[0-9]*',report)\n",
    "\n",
    "re.findall('(\\$[0-9]+(\\.[0-9]*)?)', report)\n",
    "\n",
    "dollars = [x[0] for x in re.findall('(\\$[0-9]+(\\.[0-9]*)?)', report)]"
   ]
  },
  {
   "cell_type": "code",
   "execution_count": 16,
   "metadata": {},
   "outputs": [
    {
     "data": {
      "text/plain": [
       "['$1', '$18087791', '$0', '$4521947']"
      ]
     },
     "execution_count": 16,
     "metadata": {},
     "output_type": "execute_result"
    }
   ],
   "source": [
    "re.findall('\\$[0-9]*',report)"
   ]
  },
  {
   "cell_type": "code",
   "execution_count": 17,
   "metadata": {},
   "outputs": [
    {
     "data": {
      "text/plain": [
       "['$1', '$1', '$0', '$4']"
      ]
     },
     "execution_count": 17,
     "metadata": {},
     "output_type": "execute_result"
    }
   ],
   "source": [
    "re.findall('\\$[0-9]?',report)"
   ]
  },
  {
   "cell_type": "code",
   "execution_count": 18,
   "metadata": {},
   "outputs": [
    {
     "data": {
      "text/plain": [
       "['$1', '$18087791', '$0', '$4521947']"
      ]
     },
     "execution_count": 18,
     "metadata": {},
     "output_type": "execute_result"
    }
   ],
   "source": [
    "re.findall('\\$[0-9]+',report)"
   ]
  },
  {
   "cell_type": "code",
   "execution_count": 19,
   "metadata": {},
   "outputs": [
    {
     "data": {
      "text/plain": [
       "[('$1', ''),\n",
       " ('$18087791.41', '.41'),\n",
       " ('$0.25', '.25'),\n",
       " ('$4521947.8525', '.8525')]"
      ]
     },
     "execution_count": 19,
     "metadata": {},
     "output_type": "execute_result"
    }
   ],
   "source": [
    "re.findall('(\\$[0-9]+(\\.[0-9]*)?)', report)"
   ]
  },
  {
   "cell_type": "code",
   "execution_count": 23,
   "metadata": {},
   "outputs": [
    {
     "data": {
      "text/plain": [
       "[('$1', ''),\n",
       " ('$18087791.41', '.41'),\n",
       " ('$0.25', '.25'),\n",
       " ('$4521947.8525', '.8525')]"
      ]
     },
     "execution_count": 23,
     "metadata": {},
     "output_type": "execute_result"
    }
   ],
   "source": [
    "[x for x in re.findall('(\\$[0-9]+(\\.[0-9]*)?)', report)]"
   ]
  },
  {
   "cell_type": "code",
   "execution_count": 24,
   "metadata": {},
   "outputs": [
    {
     "data": {
      "text/plain": [
       "['I',\n",
       " 'f',\n",
       " ' ',\n",
       " 'y',\n",
       " 'o',\n",
       " 'u',\n",
       " ' ',\n",
       " 'i',\n",
       " 'n',\n",
       " 'v',\n",
       " 'e',\n",
       " 's',\n",
       " 't',\n",
       " 'e',\n",
       " 'd',\n",
       " ' ',\n",
       " '$',\n",
       " '1',\n",
       " ' ',\n",
       " 'i',\n",
       " 'n',\n",
       " ' ',\n",
       " 't',\n",
       " 'h',\n",
       " 'e',\n",
       " ' ',\n",
       " 'y',\n",
       " 'e',\n",
       " 'a',\n",
       " 'r',\n",
       " ' ',\n",
       " '1',\n",
       " '8',\n",
       " '0',\n",
       " '1',\n",
       " ',',\n",
       " ' ',\n",
       " 'y',\n",
       " 'o',\n",
       " 'u',\n",
       " ' ',\n",
       " 'w',\n",
       " 'o',\n",
       " 'u',\n",
       " 'l',\n",
       " 'd',\n",
       " ' ',\n",
       " 'h',\n",
       " 'a',\n",
       " 'v',\n",
       " 'e',\n",
       " ' ',\n",
       " '$',\n",
       " '1',\n",
       " '8',\n",
       " '0',\n",
       " '8',\n",
       " '7',\n",
       " '7',\n",
       " '9',\n",
       " '1',\n",
       " '.',\n",
       " '4',\n",
       " '1',\n",
       " ' ',\n",
       " 't',\n",
       " 'o',\n",
       " 'd',\n",
       " 'a',\n",
       " 'y',\n",
       " '.',\n",
       " 'T',\n",
       " 'h',\n",
       " 'i',\n",
       " 's',\n",
       " ' ',\n",
       " 'i',\n",
       " 's',\n",
       " ' ',\n",
       " 'a',\n",
       " ' ',\n",
       " '7',\n",
       " '.',\n",
       " '9',\n",
       " '6',\n",
       " '7',\n",
       " '%',\n",
       " ' ',\n",
       " 'r',\n",
       " 'e',\n",
       " 't',\n",
       " 'u',\n",
       " 'r',\n",
       " 'n',\n",
       " ' ',\n",
       " 'o',\n",
       " 'n',\n",
       " ' ',\n",
       " 'i',\n",
       " 'n',\n",
       " 'v',\n",
       " 'e',\n",
       " 's',\n",
       " 't',\n",
       " 'm',\n",
       " 'e',\n",
       " 'n',\n",
       " 't',\n",
       " '.',\n",
       " 'B',\n",
       " 'u',\n",
       " 't',\n",
       " ' ',\n",
       " 'i',\n",
       " 'f',\n",
       " ' ',\n",
       " 'y',\n",
       " 'o',\n",
       " 'u',\n",
       " ' ',\n",
       " 'i',\n",
       " 'n',\n",
       " 'v',\n",
       " 'e',\n",
       " 's',\n",
       " 't',\n",
       " 'e',\n",
       " 'd',\n",
       " ' ',\n",
       " 'o',\n",
       " 'n',\n",
       " 'l',\n",
       " 'y',\n",
       " ' ',\n",
       " '$',\n",
       " '0',\n",
       " '.',\n",
       " '2',\n",
       " '5',\n",
       " ' ',\n",
       " 'i',\n",
       " 'n',\n",
       " ' ',\n",
       " '1',\n",
       " '8',\n",
       " '0',\n",
       " '1',\n",
       " ',',\n",
       " ' ',\n",
       " 'y',\n",
       " 'o',\n",
       " 'u',\n",
       " ' ',\n",
       " 'w',\n",
       " 'o',\n",
       " 'u',\n",
       " 'l',\n",
       " 'd',\n",
       " ' ',\n",
       " 'e',\n",
       " 'n',\n",
       " 'd',\n",
       " ' ',\n",
       " 'u',\n",
       " 'p',\n",
       " ' ',\n",
       " 'w',\n",
       " 'i',\n",
       " 't',\n",
       " 'h',\n",
       " ' ',\n",
       " '$',\n",
       " '4',\n",
       " '5',\n",
       " '2',\n",
       " '1',\n",
       " '9',\n",
       " '4',\n",
       " '7',\n",
       " '.',\n",
       " '8',\n",
       " '5',\n",
       " '2',\n",
       " '5',\n",
       " '.']"
      ]
     },
     "execution_count": 24,
     "metadata": {},
     "output_type": "execute_result"
    }
   ],
   "source": [
    "re.findall('.', report)"
   ]
  },
  {
   "cell_type": "code",
   "execution_count": 26,
   "metadata": {},
   "outputs": [
    {
     "data": {
      "text/plain": [
       "['you', 'you', 'you', 'you']"
      ]
     },
     "execution_count": 26,
     "metadata": {},
     "output_type": "execute_result"
    }
   ],
   "source": [
    "# Using dot regex to match any arbitrary character \n",
    "re.findall('y.u', report)"
   ]
  },
  {
   "cell_type": "code",
   "execution_count": 27,
   "metadata": {},
   "outputs": [
    {
     "data": {
      "text/plain": [
       "['you invested $1 in the year 1801, you would have $18087791.41 today',\n",
       " 'you invested only $0.25 in 1801, y']"
      ]
     },
     "execution_count": 27,
     "metadata": {},
     "output_type": "execute_result"
    }
   ],
   "source": [
    "# Asterisk regex can't stand on own. Modifies the meaning \n",
    "# of another regex. \n",
    "re.findall('y.*y', report)"
   ]
  },
  {
   "cell_type": "code",
   "execution_count": 29,
   "metadata": {},
   "outputs": [],
   "source": [
    "x = '''\n",
    "\n",
    "The Northern Ireland Protocol was agreed under former PM Boris Johnson as part of the process of the UK leaving the European Union.\n",
    "\n",
    "It means Northern Ireland has continued to follow some EU laws so that goods can flow freely over the border to the Republic of Ireland without checks.\n",
    "\n",
    "Instead, goods arriving from England, Scotland and Wales are checked when they reach Northern Irish ports.\n",
    "\n",
    "Critics, including Northern Ireland's Democratic Unionist Party (DUP), feel this undermines the nation's position within the rest of the UK, as well as impacting trade. \n",
    "\n",
    "\n",
    "'''"
   ]
  },
  {
   "cell_type": "code",
   "execution_count": 32,
   "metadata": {},
   "outputs": [
    {
     "data": {
      "text/plain": [
       "['',\n",
       " '',\n",
       " '',\n",
       " 'T',\n",
       " '',\n",
       " 'h',\n",
       " '',\n",
       " 'e',\n",
       " '',\n",
       " ' ',\n",
       " '',\n",
       " 'N',\n",
       " '',\n",
       " 'o',\n",
       " '',\n",
       " 'r',\n",
       " '',\n",
       " 't',\n",
       " '',\n",
       " 'h',\n",
       " '',\n",
       " 'e',\n",
       " '',\n",
       " 'r',\n",
       " '',\n",
       " 'n',\n",
       " '',\n",
       " ' ',\n",
       " '',\n",
       " 'I',\n",
       " '',\n",
       " 'r',\n",
       " '',\n",
       " 'e',\n",
       " '',\n",
       " 'l',\n",
       " '',\n",
       " 'a',\n",
       " '',\n",
       " 'n',\n",
       " '',\n",
       " 'd',\n",
       " '',\n",
       " ' ',\n",
       " '',\n",
       " 'P',\n",
       " '',\n",
       " 'r',\n",
       " '',\n",
       " 'o',\n",
       " '',\n",
       " 't',\n",
       " '',\n",
       " 'o',\n",
       " '',\n",
       " 'c',\n",
       " '',\n",
       " 'o',\n",
       " '',\n",
       " 'l',\n",
       " '',\n",
       " ' ',\n",
       " '',\n",
       " 'w',\n",
       " '',\n",
       " 'a',\n",
       " '',\n",
       " 's',\n",
       " '',\n",
       " ' ',\n",
       " '',\n",
       " 'a',\n",
       " '',\n",
       " 'g',\n",
       " '',\n",
       " 'r',\n",
       " '',\n",
       " 'e',\n",
       " '',\n",
       " 'e',\n",
       " '',\n",
       " 'd',\n",
       " '',\n",
       " ' ',\n",
       " '',\n",
       " 'u',\n",
       " '',\n",
       " 'n',\n",
       " '',\n",
       " 'd',\n",
       " '',\n",
       " 'e',\n",
       " '',\n",
       " 'r',\n",
       " '',\n",
       " ' ',\n",
       " '',\n",
       " 'f',\n",
       " '',\n",
       " 'o',\n",
       " '',\n",
       " 'r',\n",
       " '',\n",
       " 'm',\n",
       " '',\n",
       " 'e',\n",
       " '',\n",
       " 'r',\n",
       " '',\n",
       " ' ',\n",
       " '',\n",
       " 'P',\n",
       " '',\n",
       " 'M',\n",
       " '',\n",
       " ' ',\n",
       " '',\n",
       " 'B',\n",
       " '',\n",
       " 'o',\n",
       " '',\n",
       " 'r',\n",
       " '',\n",
       " 'i',\n",
       " '',\n",
       " 's',\n",
       " '',\n",
       " ' ',\n",
       " '',\n",
       " 'J',\n",
       " '',\n",
       " 'o',\n",
       " '',\n",
       " 'h',\n",
       " '',\n",
       " 'n',\n",
       " '',\n",
       " 's',\n",
       " '',\n",
       " 'o',\n",
       " '',\n",
       " 'n',\n",
       " '',\n",
       " ' ',\n",
       " '',\n",
       " 'a',\n",
       " '',\n",
       " 's',\n",
       " '',\n",
       " ' ',\n",
       " '',\n",
       " 'p',\n",
       " '',\n",
       " 'a',\n",
       " '',\n",
       " 'r',\n",
       " '',\n",
       " 't',\n",
       " '',\n",
       " ' ',\n",
       " '',\n",
       " 'o',\n",
       " '',\n",
       " 'f',\n",
       " '',\n",
       " ' ',\n",
       " '',\n",
       " 't',\n",
       " '',\n",
       " 'h',\n",
       " '',\n",
       " 'e',\n",
       " '',\n",
       " ' ',\n",
       " '',\n",
       " 'p',\n",
       " '',\n",
       " 'r',\n",
       " '',\n",
       " 'o',\n",
       " '',\n",
       " 'c',\n",
       " '',\n",
       " 'e',\n",
       " '',\n",
       " 's',\n",
       " '',\n",
       " 's',\n",
       " '',\n",
       " ' ',\n",
       " '',\n",
       " 'o',\n",
       " '',\n",
       " 'f',\n",
       " '',\n",
       " ' ',\n",
       " '',\n",
       " 't',\n",
       " '',\n",
       " 'h',\n",
       " '',\n",
       " 'e',\n",
       " '',\n",
       " ' ',\n",
       " '',\n",
       " 'U',\n",
       " '',\n",
       " 'K',\n",
       " '',\n",
       " ' ',\n",
       " '',\n",
       " 'l',\n",
       " '',\n",
       " 'e',\n",
       " '',\n",
       " 'a',\n",
       " '',\n",
       " 'v',\n",
       " '',\n",
       " 'i',\n",
       " '',\n",
       " 'n',\n",
       " '',\n",
       " 'g',\n",
       " '',\n",
       " ' ',\n",
       " '',\n",
       " 't',\n",
       " '',\n",
       " 'h',\n",
       " '',\n",
       " 'e',\n",
       " '',\n",
       " ' ',\n",
       " '',\n",
       " 'E',\n",
       " '',\n",
       " 'u',\n",
       " '',\n",
       " 'r',\n",
       " '',\n",
       " 'o',\n",
       " '',\n",
       " 'p',\n",
       " '',\n",
       " 'e',\n",
       " '',\n",
       " 'a',\n",
       " '',\n",
       " 'n',\n",
       " '',\n",
       " ' ',\n",
       " '',\n",
       " 'U',\n",
       " '',\n",
       " 'n',\n",
       " '',\n",
       " 'i',\n",
       " '',\n",
       " 'o',\n",
       " '',\n",
       " 'n',\n",
       " '',\n",
       " '.',\n",
       " '',\n",
       " '',\n",
       " '',\n",
       " 'I',\n",
       " '',\n",
       " 't',\n",
       " '',\n",
       " ' ',\n",
       " '',\n",
       " 'm',\n",
       " '',\n",
       " 'e',\n",
       " '',\n",
       " 'a',\n",
       " '',\n",
       " 'n',\n",
       " '',\n",
       " 's',\n",
       " '',\n",
       " ' ',\n",
       " '',\n",
       " 'N',\n",
       " '',\n",
       " 'o',\n",
       " '',\n",
       " 'r',\n",
       " '',\n",
       " 't',\n",
       " '',\n",
       " 'h',\n",
       " '',\n",
       " 'e',\n",
       " '',\n",
       " 'r',\n",
       " '',\n",
       " 'n',\n",
       " '',\n",
       " ' ',\n",
       " '',\n",
       " 'I',\n",
       " '',\n",
       " 'r',\n",
       " '',\n",
       " 'e',\n",
       " '',\n",
       " 'l',\n",
       " '',\n",
       " 'a',\n",
       " '',\n",
       " 'n',\n",
       " '',\n",
       " 'd',\n",
       " '',\n",
       " ' ',\n",
       " '',\n",
       " 'h',\n",
       " '',\n",
       " 'a',\n",
       " '',\n",
       " 's',\n",
       " '',\n",
       " ' ',\n",
       " '',\n",
       " 'c',\n",
       " '',\n",
       " 'o',\n",
       " '',\n",
       " 'n',\n",
       " '',\n",
       " 't',\n",
       " '',\n",
       " 'i',\n",
       " '',\n",
       " 'n',\n",
       " '',\n",
       " 'u',\n",
       " '',\n",
       " 'e',\n",
       " '',\n",
       " 'd',\n",
       " '',\n",
       " ' ',\n",
       " '',\n",
       " 't',\n",
       " '',\n",
       " 'o',\n",
       " '',\n",
       " ' ',\n",
       " '',\n",
       " 'f',\n",
       " '',\n",
       " 'o',\n",
       " '',\n",
       " 'l',\n",
       " '',\n",
       " 'l',\n",
       " '',\n",
       " 'o',\n",
       " '',\n",
       " 'w',\n",
       " '',\n",
       " ' ',\n",
       " '',\n",
       " 's',\n",
       " '',\n",
       " 'o',\n",
       " '',\n",
       " 'm',\n",
       " '',\n",
       " 'e',\n",
       " '',\n",
       " ' ',\n",
       " '',\n",
       " 'E',\n",
       " '',\n",
       " 'U',\n",
       " '',\n",
       " ' ',\n",
       " '',\n",
       " 'l',\n",
       " '',\n",
       " 'a',\n",
       " '',\n",
       " 'w',\n",
       " '',\n",
       " 's',\n",
       " '',\n",
       " ' ',\n",
       " '',\n",
       " 's',\n",
       " '',\n",
       " 'o',\n",
       " '',\n",
       " ' ',\n",
       " '',\n",
       " 't',\n",
       " '',\n",
       " 'h',\n",
       " '',\n",
       " 'a',\n",
       " '',\n",
       " 't',\n",
       " '',\n",
       " ' ',\n",
       " '',\n",
       " 'g',\n",
       " '',\n",
       " 'o',\n",
       " '',\n",
       " 'o',\n",
       " '',\n",
       " 'd',\n",
       " '',\n",
       " 's',\n",
       " '',\n",
       " ' ',\n",
       " '',\n",
       " 'c',\n",
       " '',\n",
       " 'a',\n",
       " '',\n",
       " 'n',\n",
       " '',\n",
       " ' ',\n",
       " '',\n",
       " 'f',\n",
       " '',\n",
       " 'l',\n",
       " '',\n",
       " 'o',\n",
       " '',\n",
       " 'w',\n",
       " '',\n",
       " ' ',\n",
       " '',\n",
       " 'f',\n",
       " '',\n",
       " 'r',\n",
       " '',\n",
       " 'e',\n",
       " '',\n",
       " 'e',\n",
       " '',\n",
       " 'l',\n",
       " '',\n",
       " 'y',\n",
       " '',\n",
       " ' ',\n",
       " '',\n",
       " 'o',\n",
       " '',\n",
       " 'v',\n",
       " '',\n",
       " 'e',\n",
       " '',\n",
       " 'r',\n",
       " '',\n",
       " ' ',\n",
       " '',\n",
       " 't',\n",
       " '',\n",
       " 'h',\n",
       " '',\n",
       " 'e',\n",
       " '',\n",
       " ' ',\n",
       " '',\n",
       " 'b',\n",
       " '',\n",
       " 'o',\n",
       " '',\n",
       " 'r',\n",
       " '',\n",
       " 'd',\n",
       " '',\n",
       " 'e',\n",
       " '',\n",
       " 'r',\n",
       " '',\n",
       " ' ',\n",
       " '',\n",
       " 't',\n",
       " '',\n",
       " 'o',\n",
       " '',\n",
       " ' ',\n",
       " '',\n",
       " 't',\n",
       " '',\n",
       " 'h',\n",
       " '',\n",
       " 'e',\n",
       " '',\n",
       " ' ',\n",
       " '',\n",
       " 'R',\n",
       " '',\n",
       " 'e',\n",
       " '',\n",
       " 'p',\n",
       " '',\n",
       " 'u',\n",
       " '',\n",
       " 'b',\n",
       " '',\n",
       " 'l',\n",
       " '',\n",
       " 'i',\n",
       " '',\n",
       " 'c',\n",
       " '',\n",
       " ' ',\n",
       " '',\n",
       " 'o',\n",
       " '',\n",
       " 'f',\n",
       " '',\n",
       " ' ',\n",
       " '',\n",
       " 'I',\n",
       " '',\n",
       " 'r',\n",
       " '',\n",
       " 'e',\n",
       " '',\n",
       " 'l',\n",
       " '',\n",
       " 'a',\n",
       " '',\n",
       " 'n',\n",
       " '',\n",
       " 'd',\n",
       " '',\n",
       " ' ',\n",
       " '',\n",
       " 'w',\n",
       " '',\n",
       " 'i',\n",
       " '',\n",
       " 't',\n",
       " '',\n",
       " 'h',\n",
       " '',\n",
       " 'o',\n",
       " '',\n",
       " 'u',\n",
       " '',\n",
       " 't',\n",
       " '',\n",
       " ' ',\n",
       " '',\n",
       " 'c',\n",
       " '',\n",
       " 'h',\n",
       " '',\n",
       " 'e',\n",
       " '',\n",
       " 'c',\n",
       " '',\n",
       " 'k',\n",
       " '',\n",
       " 's',\n",
       " '',\n",
       " '.',\n",
       " '',\n",
       " '',\n",
       " '',\n",
       " 'I',\n",
       " '',\n",
       " 'n',\n",
       " '',\n",
       " 's',\n",
       " '',\n",
       " 't',\n",
       " '',\n",
       " 'e',\n",
       " '',\n",
       " 'a',\n",
       " '',\n",
       " 'd',\n",
       " '',\n",
       " ',',\n",
       " '',\n",
       " ' ',\n",
       " '',\n",
       " 'g',\n",
       " '',\n",
       " 'o',\n",
       " '',\n",
       " 'o',\n",
       " '',\n",
       " 'd',\n",
       " '',\n",
       " 's',\n",
       " '',\n",
       " ' ',\n",
       " '',\n",
       " 'a',\n",
       " '',\n",
       " 'r',\n",
       " '',\n",
       " 'r',\n",
       " '',\n",
       " 'i',\n",
       " '',\n",
       " 'v',\n",
       " '',\n",
       " 'i',\n",
       " '',\n",
       " 'n',\n",
       " '',\n",
       " 'g',\n",
       " '',\n",
       " ' ',\n",
       " '',\n",
       " 'f',\n",
       " '',\n",
       " 'r',\n",
       " '',\n",
       " 'o',\n",
       " '',\n",
       " 'm',\n",
       " '',\n",
       " ' ',\n",
       " '',\n",
       " 'E',\n",
       " '',\n",
       " 'n',\n",
       " '',\n",
       " 'g',\n",
       " '',\n",
       " 'l',\n",
       " '',\n",
       " 'a',\n",
       " '',\n",
       " 'n',\n",
       " '',\n",
       " 'd',\n",
       " '',\n",
       " ',',\n",
       " '',\n",
       " ' ',\n",
       " '',\n",
       " 'S',\n",
       " '',\n",
       " 'c',\n",
       " '',\n",
       " 'o',\n",
       " '',\n",
       " 't',\n",
       " '',\n",
       " 'l',\n",
       " '',\n",
       " 'a',\n",
       " '',\n",
       " 'n',\n",
       " '',\n",
       " 'd',\n",
       " '',\n",
       " ' ',\n",
       " '',\n",
       " 'a',\n",
       " '',\n",
       " 'n',\n",
       " '',\n",
       " 'd',\n",
       " '',\n",
       " ' ',\n",
       " '',\n",
       " 'W',\n",
       " '',\n",
       " 'a',\n",
       " '',\n",
       " 'l',\n",
       " '',\n",
       " 'e',\n",
       " '',\n",
       " 's',\n",
       " '',\n",
       " ' ',\n",
       " '',\n",
       " 'a',\n",
       " '',\n",
       " 'r',\n",
       " '',\n",
       " 'e',\n",
       " '',\n",
       " ' ',\n",
       " '',\n",
       " 'c',\n",
       " '',\n",
       " 'h',\n",
       " '',\n",
       " 'e',\n",
       " '',\n",
       " 'c',\n",
       " '',\n",
       " 'k',\n",
       " '',\n",
       " 'e',\n",
       " '',\n",
       " 'd',\n",
       " '',\n",
       " ' ',\n",
       " '',\n",
       " 'w',\n",
       " '',\n",
       " 'h',\n",
       " '',\n",
       " 'e',\n",
       " '',\n",
       " 'n',\n",
       " '',\n",
       " ' ',\n",
       " '',\n",
       " 't',\n",
       " '',\n",
       " 'h',\n",
       " '',\n",
       " 'e',\n",
       " '',\n",
       " 'y',\n",
       " '',\n",
       " ' ',\n",
       " '',\n",
       " 'r',\n",
       " '',\n",
       " 'e',\n",
       " '',\n",
       " 'a',\n",
       " '',\n",
       " 'c',\n",
       " '',\n",
       " 'h',\n",
       " '',\n",
       " ' ',\n",
       " '',\n",
       " 'N',\n",
       " '',\n",
       " 'o',\n",
       " '',\n",
       " 'r',\n",
       " '',\n",
       " 't',\n",
       " '',\n",
       " 'h',\n",
       " '',\n",
       " 'e',\n",
       " '',\n",
       " 'r',\n",
       " '',\n",
       " 'n',\n",
       " '',\n",
       " ' ',\n",
       " '',\n",
       " 'I',\n",
       " '',\n",
       " 'r',\n",
       " '',\n",
       " 'i',\n",
       " '',\n",
       " 's',\n",
       " '',\n",
       " 'h',\n",
       " '',\n",
       " ' ',\n",
       " '',\n",
       " 'p',\n",
       " '',\n",
       " 'o',\n",
       " '',\n",
       " 'r',\n",
       " '',\n",
       " 't',\n",
       " '',\n",
       " 's',\n",
       " '',\n",
       " '.',\n",
       " '',\n",
       " '',\n",
       " '',\n",
       " 'C',\n",
       " '',\n",
       " 'r',\n",
       " '',\n",
       " 'i',\n",
       " '',\n",
       " 't',\n",
       " '',\n",
       " 'i',\n",
       " '',\n",
       " 'c',\n",
       " '',\n",
       " 's',\n",
       " '',\n",
       " ',',\n",
       " '',\n",
       " ' ',\n",
       " '',\n",
       " 'i',\n",
       " '',\n",
       " 'n',\n",
       " '',\n",
       " 'c',\n",
       " '',\n",
       " 'l',\n",
       " '',\n",
       " 'u',\n",
       " '',\n",
       " 'd',\n",
       " '',\n",
       " 'i',\n",
       " '',\n",
       " 'n',\n",
       " '',\n",
       " 'g',\n",
       " '',\n",
       " ' ',\n",
       " '',\n",
       " 'N',\n",
       " '',\n",
       " 'o',\n",
       " '',\n",
       " 'r',\n",
       " '',\n",
       " 't',\n",
       " '',\n",
       " 'h',\n",
       " '',\n",
       " 'e',\n",
       " '',\n",
       " 'r',\n",
       " '',\n",
       " 'n',\n",
       " '',\n",
       " ' ',\n",
       " '',\n",
       " 'I',\n",
       " '',\n",
       " 'r',\n",
       " '',\n",
       " 'e',\n",
       " '',\n",
       " 'l',\n",
       " '',\n",
       " 'a',\n",
       " '',\n",
       " 'n',\n",
       " '',\n",
       " 'd',\n",
       " '',\n",
       " \"'\",\n",
       " '',\n",
       " 's',\n",
       " '',\n",
       " ' ',\n",
       " '',\n",
       " 'D',\n",
       " '',\n",
       " 'e',\n",
       " '',\n",
       " 'm',\n",
       " '',\n",
       " 'o',\n",
       " '',\n",
       " 'c',\n",
       " '',\n",
       " 'r',\n",
       " '',\n",
       " 'a',\n",
       " '',\n",
       " 't',\n",
       " '',\n",
       " 'i',\n",
       " '',\n",
       " 'c',\n",
       " '',\n",
       " ' ',\n",
       " '',\n",
       " 'U',\n",
       " '',\n",
       " 'n',\n",
       " '',\n",
       " 'i',\n",
       " '',\n",
       " 'o',\n",
       " '',\n",
       " 'n',\n",
       " '',\n",
       " 'i',\n",
       " '',\n",
       " 's',\n",
       " '',\n",
       " 't',\n",
       " '',\n",
       " ' ',\n",
       " '',\n",
       " 'P',\n",
       " '',\n",
       " 'a',\n",
       " '',\n",
       " 'r',\n",
       " '',\n",
       " 't',\n",
       " '',\n",
       " 'y',\n",
       " '',\n",
       " ' ',\n",
       " '',\n",
       " '(',\n",
       " '',\n",
       " 'D',\n",
       " '',\n",
       " 'U',\n",
       " '',\n",
       " 'P',\n",
       " '',\n",
       " ')',\n",
       " '',\n",
       " ',',\n",
       " '',\n",
       " ' ',\n",
       " '',\n",
       " 'f',\n",
       " '',\n",
       " 'e',\n",
       " '',\n",
       " 'e',\n",
       " '',\n",
       " 'l',\n",
       " '',\n",
       " ' ',\n",
       " '',\n",
       " 't',\n",
       " '',\n",
       " 'h',\n",
       " '',\n",
       " 'i',\n",
       " '',\n",
       " 's',\n",
       " '',\n",
       " ' ',\n",
       " '',\n",
       " 'u',\n",
       " '',\n",
       " 'n',\n",
       " '',\n",
       " 'd',\n",
       " '',\n",
       " 'e',\n",
       " '',\n",
       " 'r',\n",
       " '',\n",
       " 'm',\n",
       " '',\n",
       " 'i',\n",
       " '',\n",
       " 'n',\n",
       " '',\n",
       " 'e',\n",
       " '',\n",
       " 's',\n",
       " '',\n",
       " ' ',\n",
       " '',\n",
       " 't',\n",
       " '',\n",
       " 'h',\n",
       " '',\n",
       " 'e',\n",
       " '',\n",
       " ' ',\n",
       " '',\n",
       " 'n',\n",
       " '',\n",
       " 'a',\n",
       " '',\n",
       " 't',\n",
       " '',\n",
       " 'i',\n",
       " '',\n",
       " 'o',\n",
       " '',\n",
       " 'n',\n",
       " '',\n",
       " \"'\",\n",
       " '',\n",
       " 's',\n",
       " '',\n",
       " ' ',\n",
       " '',\n",
       " 'p',\n",
       " '',\n",
       " 'o',\n",
       " '',\n",
       " 's',\n",
       " ...]"
      ]
     },
     "execution_count": 32,
     "metadata": {},
     "output_type": "execute_result"
    }
   ],
   "source": [
    "re.findall('.*?', x)"
   ]
  },
  {
   "cell_type": "markdown",
   "metadata": {},
   "source": [
    "Our input is a string, and our goal is to use a nongreedy approach to find all patterns that start with the character 'p', end with the character 'r', and have at least one occurrence of the character 'e' (and, possibly, an arbitrary number of other characters) in between!"
   ]
  },
  {
   "cell_type": "code",
   "execution_count": 33,
   "metadata": {},
   "outputs": [],
   "source": [
    "text = 'peter piper picked a peck of pickled peppers'"
   ]
  },
  {
   "cell_type": "code",
   "execution_count": 51,
   "metadata": {},
   "outputs": [
    {
     "data": {
      "text/plain": [
       "['peter piper picked a peck of pickled pepper']"
      ]
     },
     "execution_count": 51,
     "metadata": {},
     "output_type": "execute_result"
    }
   ],
   "source": [
    "re.findall('p.*e.*r',text)"
   ]
  },
  {
   "cell_type": "code",
   "execution_count": 52,
   "metadata": {},
   "outputs": [
    {
     "data": {
      "text/plain": [
       "['peter', 'piper', 'picked a peck of pickled pepper']"
      ]
     },
     "execution_count": 52,
     "metadata": {},
     "output_type": "execute_result"
    }
   ],
   "source": [
    "re.findall('p.*?e.*?r',text)"
   ]
  },
  {
   "cell_type": "code",
   "execution_count": 60,
   "metadata": {},
   "outputs": [],
   "source": [
    "text = '''\n",
    "\n",
    "The arrival of the outstanding Casemiro, the superb development of the combative Lisandro Martinez and Rashford's rejuvenation have helped to make the Old Trafford outfit a serious proposition again.\n",
    "\n",
    "They were not at their best, but once they took control of this final they did not let Newcastle back in - and this was very much a case of mission accomplished.\n",
    "\n",
    "At the heart of it all was Casemiro, a genuinely transformative acquisition. The Brazilian not only made the crucial contribution with the opening goal, but stamped his years of trophy-winning experience with Real Madrid all over this showpiece with his expert positioning and authority.\n",
    "\n",
    "It will also increase the growing belief that Ten Hag is the manager who will move Manchester United forward and out of the wilderness that had engulfed them before his arrival at the start of the season.\n",
    "\n",
    "Manchester United claimed their first trophy since 2017 with victory over Newcastle United in the Carabao Cup final at Wembley.\n",
    "\n",
    "Newcastle's own wait for silverware, stretching back to 1969, goes on after two goals inside six minutes in the first half established Manchester United's superiority and set them on their way to a first success under manager Erik ten Hag.\n",
    "\n",
    "Casemiro broke the deadlock after 33 minutes when he headed home Luke Shaw's free-kick.\n",
    "\n",
    "His side doubled their advantage after Sven Botman deflected Marcus Rashford's shot out of the reach of Newcastle's debutant keeper Loris Karius, deputising for the suspended Nick Pope.\n",
    "\n",
    "Newcastle attempted to rally in the second half, but the goals have dried up at the wrong time for Eddie Howe's men.\n",
    "\n",
    "It meant Manchester United were back in the honours after last tasting success six years ago when lifting the Europa League under Jose Mourinho, and also winning this competition in the same campaign.\n",
    "\n",
    "'''"
   ]
  },
  {
   "cell_type": "code",
   "execution_count": 69,
   "metadata": {},
   "outputs": [
    {
     "data": {
      "text/plain": [
       "[\"Casemiro, the superb development of the combative Lisandro Martinez and Rashford's rejuvenation have helped to make the Old Trafford outfit a serious propositio\",\n",
       " 'Casemiro, a genuinely transformative acquisition. The Brazilian not only made the crucial contribution with the opening goal, but stamped his years of trophy-winning experience with Real Madrid all over this showpiece with his expert positioning and autho',\n",
       " 'Carabao',\n",
       " 'Casemiro broke the deadlock after 33 minutes when he headed ho']"
      ]
     },
     "execution_count": 69,
     "metadata": {},
     "output_type": "execute_result"
    }
   ],
   "source": [
    "re.findall('C.*o',text)"
   ]
  },
  {
   "cell_type": "code",
   "execution_count": 62,
   "metadata": {},
   "outputs": [
    {
     "data": {
      "text/plain": [
       "['Casemiro', 'Casemiro', 'Carabao', 'Casemiro']"
      ]
     },
     "execution_count": 62,
     "metadata": {},
     "output_type": "execute_result"
    }
   ],
   "source": [
    "re.findall('C.*?o',text)"
   ]
  },
  {
   "cell_type": "code",
   "execution_count": 73,
   "metadata": {},
   "outputs": [
    {
     "data": {
      "text/plain": [
       "['Mar', 'Madr', 'Manchester', 'Manchester', 'Manchester', 'Mar', 'Manchester']"
      ]
     },
     "execution_count": 73,
     "metadata": {},
     "output_type": "execute_result"
    }
   ],
   "source": [
    "re.findall('M.*?a.*?r', text)"
   ]
  },
  {
   "cell_type": "code",
   "execution_count": 75,
   "metadata": {},
   "outputs": [
    {
     "data": {
      "text/plain": [
       "[\"Martinez and Rashford's rejuvenation have helped to make the Old Trafford outfit a serious pr\",\n",
       " 'Madrid all over this showpiece with his expert positioning and author',\n",
       " 'Manchester United forward and out of the wilderness that had engulfed them before his arrival at the star',\n",
       " 'Manchester United claimed their first trophy since 2017 with victory over Newcastle United in the Car',\n",
       " \"Manchester United's superiority and set them on their way to a first success under manager Er\",\n",
       " \"Marcus Rashford's shot out of the reach of Newcastle's debutant keeper Loris Karius, deputising for\",\n",
       " 'Manchester United were back in the honours after last tasting success six years ago when lifting the Europa League under Jose Mour']"
      ]
     },
     "execution_count": 75,
     "metadata": {},
     "output_type": "execute_result"
    }
   ],
   "source": [
    "re.findall('M.*a.*r', text)"
   ]
  },
  {
   "cell_type": "code",
   "execution_count": 1,
   "metadata": {},
   "outputs": [],
   "source": [
    "import regex as re"
   ]
  },
  {
   "cell_type": "code",
   "execution_count": 2,
   "metadata": {},
   "outputs": [],
   "source": [
    "text_1 = \"crypto-bot that is trading Bitcoin and other currencies\"\n",
    "text_2 = \"cryptographic encryption methods that can be cracked easily with quantum computers\""
   ]
  },
  {
   "cell_type": "code",
   "execution_count": 3,
   "metadata": {},
   "outputs": [
    {
     "data": {
      "text/plain": [
       "'crypto-bot that is trading Bitcoin and other currencies'"
      ]
     },
     "execution_count": 3,
     "metadata": {},
     "output_type": "execute_result"
    }
   ],
   "source": [
    "text_1"
   ]
  },
  {
   "cell_type": "code",
   "execution_count": 4,
   "metadata": {},
   "outputs": [
    {
     "data": {
      "text/plain": [
       "'cryptographic encryption methods that can be cracked easily with quantum computers'"
      ]
     },
     "execution_count": 4,
     "metadata": {},
     "output_type": "execute_result"
    }
   ],
   "source": [
    "text_2"
   ]
  },
  {
   "cell_type": "code",
   "execution_count": 37,
   "metadata": {},
   "outputs": [],
   "source": [
    "text_1_analysis = re.findall('(crypto.{0,30})(?=coin)',text_1)"
   ]
  },
  {
   "cell_type": "code",
   "execution_count": 38,
   "metadata": {},
   "outputs": [
    {
     "data": {
      "text/plain": [
       "['crypto-bot that is trading Bit']"
      ]
     },
     "execution_count": 38,
     "metadata": {},
     "output_type": "execute_result"
    }
   ],
   "source": [
    "text_1_analysis"
   ]
  },
  {
   "cell_type": "code",
   "execution_count": 39,
   "metadata": {},
   "outputs": [],
   "source": [
    "text_2_analysis = re.findall('(crypto.{0,30})(?=coin)',text_2)"
   ]
  },
  {
   "cell_type": "code",
   "execution_count": 40,
   "metadata": {},
   "outputs": [
    {
     "data": {
      "text/plain": [
       "[]"
      ]
     },
     "execution_count": 40,
     "metadata": {},
     "output_type": "execute_result"
    }
   ],
   "source": [
    "text_2_analysis"
   ]
  },
  {
   "cell_type": "code",
   "execution_count": 43,
   "metadata": {},
   "outputs": [],
   "source": [
    "pattern = re.compile(\"crypto(.{1,30})coin\")"
   ]
  },
  {
   "cell_type": "code",
   "execution_count": 45,
   "metadata": {},
   "outputs": [
    {
     "name": "stdout",
     "output_type": "stream",
     "text": [
      "<regex.Match object; span=(0, 34), match='crypto-bot that is trading Bitcoin'>\n"
     ]
    }
   ],
   "source": [
    "print(pattern.match(text_1))"
   ]
  },
  {
   "cell_type": "code",
   "execution_count": 48,
   "metadata": {},
   "outputs": [
    {
     "data": {
      "text/plain": [
       "['crypto-bot that is trading Bitcoin']"
      ]
     },
     "execution_count": 48,
     "metadata": {},
     "output_type": "execute_result"
    }
   ],
   "source": [
    "re.findall(\"(crypto.{1,30}coin)\",text_1)"
   ]
  },
  {
   "cell_type": "code",
   "execution_count": 50,
   "metadata": {},
   "outputs": [
    {
     "data": {
      "text/plain": [
       "regex.Regex('(crypto.{1,30}coin)', flags=regex.V0)"
      ]
     },
     "execution_count": 50,
     "metadata": {},
     "output_type": "execute_result"
    }
   ],
   "source": [
    "re.compile(\"(crypto.{1,30}coin)\")"
   ]
  },
  {
   "cell_type": "code",
   "execution_count": 52,
   "metadata": {},
   "outputs": [],
   "source": [
    "text = '''\n",
    "\"One can never have enough socks\", said Dumbledore.\n",
    "\"Another Christmas has come and gone and I didn't\n",
    "get a single pair. People will insist on giving me books.\"\n",
    "Christmas Quote\n",
    "'''\n",
    "regex = 'Christ.*'"
   ]
  },
  {
   "cell_type": "code",
   "execution_count": 55,
   "metadata": {},
   "outputs": [
    {
     "data": {
      "text/plain": [
       "<regex.Match object; span=(62, 102), match=\"Christmas has come and gone and I didn't\">"
      ]
     },
     "execution_count": 55,
     "metadata": {},
     "output_type": "execute_result"
    }
   ],
   "source": [
    "re.search(regex,text)"
   ]
  },
  {
   "cell_type": "code",
   "execution_count": 56,
   "metadata": {},
   "outputs": [],
   "source": [
    "re.match(regex,text)"
   ]
  },
  {
   "cell_type": "code",
   "execution_count": 57,
   "metadata": {},
   "outputs": [
    {
     "data": {
      "text/plain": [
       "[\"Christmas has come and gone and I didn't\", 'Christmas Quote']"
      ]
     },
     "execution_count": 57,
     "metadata": {},
     "output_type": "execute_result"
    }
   ],
   "source": [
    "re.findall(regex,text)"
   ]
  },
  {
   "cell_type": "code",
   "execution_count": 58,
   "metadata": {},
   "outputs": [],
   "source": [
    "## Data\n",
    "page = '''\n",
    "<!DOCTYPE html>\n",
    "<html>\n",
    "<body>\n",
    "<h1>My Programming Links</h1>\n",
    "<a href=\"https://app.finxter.com/\">test your Python skills</a>\n",
    "<a href=\"https://blog.finxter.com/recursion/\">Learn recursion</a>\n",
    "<a href=\"https://nostarch.com/\">Great books from NoStarchPress</a>\n",
    "<a href=\"http://finxter.com/\">Solve more Python puzzles</a>\n",
    "</body>\n",
    "</html>\n",
    "'''"
   ]
  },
  {
   "cell_type": "code",
   "execution_count": 74,
   "metadata": {},
   "outputs": [
    {
     "data": {
      "text/plain": [
       "[('', 'finxter.com/\">test your Python skills</a>'),\n",
       " ('finxter.com/\">Solve more Python puzzles</a>', '')]"
      ]
     },
     "execution_count": 74,
     "metadata": {},
     "output_type": "execute_result"
    }
   ],
   "source": [
    "re.findall('(finxter.com.*puzzles.*)|(finxter.com.*test.*)',page)"
   ]
  },
  {
   "cell_type": "code",
   "execution_count": 82,
   "metadata": {},
   "outputs": [
    {
     "data": {
      "text/plain": [
       "[('<a href=\"https://app.finxter.com/\">test your Python skills</a>', 'test'),\n",
       " ('<a href=\"http://finxter.com/\">Solve more Python puzzles</a>', 'puzzle')]"
      ]
     },
     "execution_count": 82,
     "metadata": {},
     "output_type": "execute_result"
    }
   ],
   "source": [
    "re.findall(\"(<a.*?finxter.*?(test|puzzle).*?>)\", page)"
   ]
  },
  {
   "cell_type": "code",
   "execution_count": 85,
   "metadata": {},
   "outputs": [
    {
     "data": {
      "text/plain": [
       "[('', '<a href=\"https://app.finxter.com/\">test your Python skills</a>'),\n",
       " ('<a href=\"http://finxter.com/\">Solve more Python puzzles</a>', '')]"
      ]
     },
     "execution_count": 85,
     "metadata": {},
     "output_type": "execute_result"
    }
   ],
   "source": [
    "re.findall('(<a.*finxter.com.*puzzles.*)|(<a.*finxter.com.*test.*)',page)"
   ]
  },
  {
   "cell_type": "code",
   "execution_count": 1,
   "metadata": {},
   "outputs": [],
   "source": [
    "article = '''\n",
    "             The algorithm has important practical applications\n",
    "             http://blog.finxter.com/applications/\n",
    "             in many basic data structures such as sets, trees,\n",
    "             dictionaries, bags, bag trees, bag dictionaries,\n",
    "             hash sets, https://blog.finxter.com/sets-in-python/\n",
    "             hash tables, maps, and arrays. http://blog.finxter.com/\n",
    "             http://not-a-valid-url\n",
    "             http:/bla.ba.com\n",
    "             http://bo.bo.bo.bo.bo.bo/\n",
    "             http://bo.bo.bo.bo.bo.bo/333483--33343-/\n",
    "             '''"
   ]
  },
  {
   "cell_type": "code",
   "execution_count": 3,
   "metadata": {},
   "outputs": [],
   "source": [
    "import regex as re\n",
    "stale_links = re.findall('http://[a-z0-9_\\-.]+\\.[a-z0-9_\\-/]+', article)"
   ]
  },
  {
   "cell_type": "code",
   "execution_count": 5,
   "metadata": {},
   "outputs": [
    {
     "data": {
      "text/plain": [
       "[['18:29'], ['23:55'], [], [], ['18:29'], ['99:99']]"
      ]
     },
     "execution_count": 5,
     "metadata": {},
     "output_type": "execute_result"
    }
   ],
   "source": [
    "inputs = ['18:29', '23:55', '123', 'ab:de', '18:299', '99:99']\n",
    "[re.findall('[0-9]{2}:[0-9]{2}',i) for i in inputs]"
   ]
  },
  {
   "cell_type": "code",
   "execution_count": 8,
   "metadata": {},
   "outputs": [
    {
     "data": {
      "text/plain": [
       "[<regex.Match object; span=(0, 5), match='18:29'>,\n",
       " <regex.Match object; span=(0, 5), match='23:55'>,\n",
       " None,\n",
       " None,\n",
       " None,\n",
       " <regex.Match object; span=(0, 5), match='99:99'>]"
      ]
     },
     "execution_count": 8,
     "metadata": {},
     "output_type": "execute_result"
    }
   ],
   "source": [
    "[re.fullmatch('[0-9]{2}:[0-9]{2}',i) for i in inputs]"
   ]
  },
  {
   "cell_type": "code",
   "execution_count": 13,
   "metadata": {},
   "outputs": [
    {
     "name": "stdout",
     "output_type": "stream",
     "text": [
      "<re.Match object; span=(0, 5), match='Geeks'>\n",
      "None\n"
     ]
    }
   ],
   "source": [
    "import re\n",
    "  \n",
    "string_ = \"Geeks for geeks\"\n",
    "pattern = \"Geeks\"\n",
    "  \n",
    "print(re.match(pattern, string))\n",
    "print(re.fullmatch(pattern, string))"
   ]
  },
  {
   "cell_type": "code",
   "execution_count": 14,
   "metadata": {},
   "outputs": [
    {
     "data": {
      "text/plain": [
       "[None, None, None, None, None, None]"
      ]
     },
     "execution_count": 14,
     "metadata": {},
     "output_type": "execute_result"
    }
   ],
   "source": [
    "[re.fullmatch('[0-24]:[0-59]',i) for i in inputs]"
   ]
  },
  {
   "cell_type": "code",
   "execution_count": 15,
   "metadata": {},
   "outputs": [],
   "source": [
    "time = '18:29'"
   ]
  },
  {
   "cell_type": "code",
   "execution_count": 18,
   "metadata": {},
   "outputs": [
    {
     "data": {
      "text/plain": [
       "<re.Match object; span=(0, 5), match='18:29'>"
      ]
     },
     "execution_count": 18,
     "metadata": {},
     "output_type": "execute_result"
    }
   ],
   "source": [
    "re.fullmatch('[0-2]{1}[0-9]{1}:[0-9]{2}', time)"
   ]
  },
  {
   "cell_type": "code",
   "execution_count": 20,
   "metadata": {},
   "outputs": [
    {
     "data": {
      "text/plain": [
       "[<re.Match object; span=(0, 5), match='18:29'>,\n",
       " <re.Match object; span=(0, 5), match='23:55'>,\n",
       " None,\n",
       " None,\n",
       " None,\n",
       " None]"
      ]
     },
     "execution_count": 20,
     "metadata": {},
     "output_type": "execute_result"
    }
   ],
   "source": [
    "[re.fullmatch('[0-2]{1}[0-9]{1}:[0-9]{2}', i) for i in inputs]"
   ]
  },
  {
   "cell_type": "code",
   "execution_count": 21,
   "metadata": {},
   "outputs": [
    {
     "data": {
      "text/plain": [
       "[None, <re.Match object; span=(0, 5), match='23:55'>, None, None, None, None]"
      ]
     },
     "execution_count": 21,
     "metadata": {},
     "output_type": "execute_result"
    }
   ],
   "source": [
    "[re.fullmatch('[0-1][0-9]|2[0-3]:[0-5][0-9]',i) for i in inputs]"
   ]
  },
  {
   "cell_type": "code",
   "execution_count": 30,
   "metadata": {},
   "outputs": [
    {
     "data": {
      "text/plain": [
       "[<re.Match object; span=(0, 5), match='18:29'>,\n",
       " <re.Match object; span=(0, 5), match='23:55'>,\n",
       " None,\n",
       " None,\n",
       " None,\n",
       " None]"
      ]
     },
     "execution_count": 30,
     "metadata": {},
     "output_type": "execute_result"
    }
   ],
   "source": [
    "[re.fullmatch('([0-1][0-9]|2[0-3]):[0-5][0-9]',i) for i in inputs]"
   ]
  },
  {
   "cell_type": "code",
   "execution_count": 31,
   "metadata": {},
   "outputs": [
    {
     "data": {
      "text/plain": [
       "['1']"
      ]
     },
     "execution_count": 31,
     "metadata": {},
     "output_type": "execute_result"
    }
   ],
   "source": [
    "re.findall('[0-9]','1')"
   ]
  },
  {
   "cell_type": "code",
   "execution_count": null,
   "metadata": {},
   "outputs": [],
   "source": []
  }
 ],
 "metadata": {
  "kernelspec": {
   "display_name": "Python 3",
   "language": "python",
   "name": "python3"
  },
  "language_info": {
   "codemirror_mode": {
    "name": "ipython",
    "version": 3
   },
   "file_extension": ".py",
   "mimetype": "text/x-python",
   "name": "python",
   "nbconvert_exporter": "python",
   "pygments_lexer": "ipython3",
   "version": "3.8.3"
  }
 },
 "nbformat": 4,
 "nbformat_minor": 4
}
