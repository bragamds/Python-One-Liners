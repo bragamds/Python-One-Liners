{
 "cells": [
  {
   "cell_type": "markdown",
   "id": "3be065f8",
   "metadata": {},
   "source": [
    "Useful Takeaways: \n",
    "\n",
    "> Generator expressions work exactly like list comprehensions—but without creating an actual list in memory. The numbers are created on the fly, without storing them explicitly in a list.\n",
    "\n",
    "> Using the any function with list comprehension, dictionary etc. \n",
    "\n",
    "> Using zip and unzip and using along with iterables"
   ]
  },
  {
   "cell_type": "code",
   "execution_count": 27,
   "id": "d327e1a2",
   "metadata": {
    "ExecuteTime": {
     "end_time": "2023-02-22T18:49:19.710315Z",
     "start_time": "2023-02-22T18:49:19.701108Z"
    }
   },
   "outputs": [],
   "source": [
    "illegal = [x for x in companies if any(y<9 for y in companies[x].values())]"
   ]
  },
  {
   "cell_type": "code",
   "execution_count": 38,
   "id": "4ef65b1a",
   "metadata": {
    "ExecuteTime": {
     "end_time": "2023-02-22T18:54:35.151951Z",
     "start_time": "2023-02-22T18:54:35.143336Z"
    }
   },
   "outputs": [],
   "source": [
    "illegal = [key for key,value in companies.items() if any(v<9 for v in companies[key].values())]"
   ]
  },
  {
   "cell_type": "code",
   "execution_count": 41,
   "id": "e1ad2c5b",
   "metadata": {
    "ExecuteTime": {
     "end_time": "2023-02-22T19:00:18.974806Z",
     "start_time": "2023-02-22T19:00:18.965826Z"
    }
   },
   "outputs": [],
   "source": [
    "## Data\n",
    "column_names = ['name', 'salary', 'job']\n",
    "db_rows = [('Alice', 180000, 'data scientist'),\n",
    " ('Bob', 99000, 'mid-level manager'),\n",
    " ('Frank', 87000, 'CEO')]"
   ]
  },
  {
   "cell_type": "code",
   "execution_count": 75,
   "id": "3840da41",
   "metadata": {
    "ExecuteTime": {
     "end_time": "2023-02-22T19:20:01.454382Z",
     "start_time": "2023-02-22T19:20:01.444774Z"
    },
    "scrolled": true
   },
   "outputs": [],
   "source": [
    "x = [dict(zip(column_names,row)) for row in db_rows]"
   ]
  },
  {
   "cell_type": "code",
   "execution_count": 88,
   "id": "536dfa8e",
   "metadata": {
    "ExecuteTime": {
     "end_time": "2023-02-22T19:25:05.691000Z",
     "start_time": "2023-02-22T19:25:05.683654Z"
    }
   },
   "outputs": [
    {
     "name": "stdout",
     "output_type": "stream",
     "text": [
      "{1: 'a', 2: 'b', 3: 'c'}\n",
      "{1: 'a', 2: 'b', 3: 'c'}\n",
      "{1: 'a', 2: 'b', 3: 'c'}\n"
     ]
    }
   ],
   "source": [
    "x = {1,2,3}\n",
    "y = ('a','b','c')\n",
    "for j,k in zip(x,y):\n",
    "    print(dict(zip(x,y)))"
   ]
  },
  {
   "cell_type": "code",
   "execution_count": 92,
   "id": "6ef189be",
   "metadata": {
    "ExecuteTime": {
     "end_time": "2023-02-22T19:48:05.082388Z",
     "start_time": "2023-02-22T19:48:05.069179Z"
    }
   },
   "outputs": [
    {
     "data": {
      "text/plain": [
       "[{1: 'a', 2: 'b', 3: 'c'}]"
      ]
     },
     "execution_count": 92,
     "metadata": {},
     "output_type": "execute_result"
    }
   ],
   "source": [
    "a = [1,2,3]\n",
    "b = ['a','b','c']\n",
    "[dict(zip(a,b))]"
   ]
  },
  {
   "cell_type": "code",
   "execution_count": 1,
   "id": "40c15d3b",
   "metadata": {
    "ExecuteTime": {
     "end_time": "2023-03-01T20:11:54.860585Z",
     "start_time": "2023-03-01T20:11:54.839134Z"
    }
   },
   "outputs": [],
   "source": [
    "companies = {\n",
    " 'CoolCompany' : {'Alice' : 33, 'Bob' : 28, 'Frank' : 29},\n",
    " 'CheapCompany' : {'Ann' : 4, 'Lee' : 9, 'Chrisi' : 7},\n",
    " 'SosoCompany' : {'Esther' : 38, 'Cole' : 8, 'Paris' : 18}}"
   ]
  },
  {
   "cell_type": "code",
   "execution_count": 26,
   "id": "2ba6eb9b",
   "metadata": {
    "ExecuteTime": {
     "end_time": "2023-03-01T20:22:04.980458Z",
     "start_time": "2023-03-01T20:22:04.957179Z"
    }
   },
   "outputs": [
    {
     "data": {
      "text/plain": [
       "['CheapCompany', 'SosoCompany']"
      ]
     },
     "execution_count": 26,
     "metadata": {},
     "output_type": "execute_result"
    }
   ],
   "source": [
    "[company for company in companies if any(k<9 for j,k in companies[company].items())]"
   ]
  },
  {
   "cell_type": "code",
   "execution_count": 9,
   "id": "f0a32ff3",
   "metadata": {
    "ExecuteTime": {
     "end_time": "2023-03-01T20:17:00.219373Z",
     "start_time": "2023-03-01T20:17:00.211255Z"
    }
   },
   "outputs": [
    {
     "name": "stdout",
     "output_type": "stream",
     "text": [
      "33\n",
      "28\n",
      "29\n",
      "4\n",
      "9\n",
      "7\n",
      "38\n",
      "8\n",
      "18\n"
     ]
    }
   ],
   "source": [
    "for j,k in companies.items():\n",
    "    for i in k.values():\n",
    "        print(i)"
   ]
  },
  {
   "cell_type": "code",
   "execution_count": null,
   "id": "50898d9e",
   "metadata": {},
   "outputs": [],
   "source": []
  }
 ],
 "metadata": {
  "kernelspec": {
   "display_name": "Python 3 (ipykernel)",
   "language": "python",
   "name": "python3"
  },
  "language_info": {
   "codemirror_mode": {
    "name": "ipython",
    "version": 3
   },
   "file_extension": ".py",
   "mimetype": "text/x-python",
   "name": "python",
   "nbconvert_exporter": "python",
   "pygments_lexer": "ipython3",
   "version": "3.9.7"
  },
  "toc": {
   "base_numbering": 1,
   "nav_menu": {},
   "number_sections": true,
   "sideBar": true,
   "skip_h1_title": false,
   "title_cell": "Table of Contents",
   "title_sidebar": "Contents",
   "toc_cell": false,
   "toc_position": {},
   "toc_section_display": true,
   "toc_window_display": false
  },
  "varInspector": {
   "cols": {
    "lenName": 16,
    "lenType": 16,
    "lenVar": 40
   },
   "kernels_config": {
    "python": {
     "delete_cmd_postfix": "",
     "delete_cmd_prefix": "del ",
     "library": "var_list.py",
     "varRefreshCmd": "print(var_dic_list())"
    },
    "r": {
     "delete_cmd_postfix": ") ",
     "delete_cmd_prefix": "rm(",
     "library": "var_list.r",
     "varRefreshCmd": "cat(var_dic_list()) "
    }
   },
   "types_to_exclude": [
    "module",
    "function",
    "builtin_function_or_method",
    "instance",
    "_Feature"
   ],
   "window_display": false
  }
 },
 "nbformat": 4,
 "nbformat_minor": 5
}
